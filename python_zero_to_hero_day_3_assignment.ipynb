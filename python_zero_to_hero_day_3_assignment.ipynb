{
  "nbformat": 4,
  "nbformat_minor": 0,
  "metadata": {
    "colab": {
      "name": "python zero to hero day 3 assignment.ipynb",
      "provenance": []
    },
    "kernelspec": {
      "name": "python3",
      "display_name": "Python 3"
    },
    "language_info": {
      "name": "python"
    }
  },
  "cells": [
    {
      "cell_type": "code",
      "metadata": {
        "colab": {
          "base_uri": "https://localhost:8080/"
        },
        "id": "nlL2CajSJv9c",
        "outputId": "dcf7dabf-daac-4ff9-ec86-c4e6468a6c3c"
      },
      "source": [
        "def div(a,b):\n",
        "  print(a/b)\n",
        "def mod_div(fun):\n",
        "  def inn(a,b):\n",
        "    if a<b:\n",
        "      a,b=b,a\n",
        "    fun(a,b)\n",
        "  return inn\n",
        "\n",
        "div = mod_div(div)\n",
        "div(2,4)"
      ],
      "execution_count": 2,
      "outputs": [
        {
          "output_type": "stream",
          "text": [
            "2.0\n"
          ],
          "name": "stdout"
        }
      ]
    },
    {
      "cell_type": "code",
      "metadata": {
        "id": "Bzqt6VfHLB0K"
      },
      "source": [
        ""
      ],
      "execution_count": null,
      "outputs": []
    }
  ]
}